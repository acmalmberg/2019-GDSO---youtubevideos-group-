{
 "cells": [
  {
   "cell_type": "markdown",
   "metadata": {},
   "source": [
    "This is another kernel from the 2nd YouTube Competition- could maybe give us ideas of how to set up a model for the 3rd."
   ]
  },
  {
   "cell_type": "code",
   "execution_count": 5,
   "metadata": {},
   "outputs": [],
   "source": [
    "from multiprocessing import Pool, cpu_count\n",
    "from IPython.display import YouTubeVideo #YouTubeVideo('-0OWhcdBt0k', 7)\n",
    "from sklearn import ensemble, metrics, preprocessing\n",
    "from sklearn.ensemble import RandomForestClassifier\n",
    "import tensorflow as tf\n",
    "import pandas as pd\n",
    "import numpy as np\n",
    "import glob"
   ]
  },
  {
   "cell_type": "code",
   "execution_count": 17,
   "metadata": {},
   "outputs": [
    {
     "data": {
      "text/plain": [
       "['Index', 'Name']"
      ]
     },
     "execution_count": 17,
     "metadata": {},
     "output_type": "execute_result"
    }
   ],
   "source": [
    "[x for x in pd.read_csv('sample/vocabulary.csv').loc[:,['Index','Name']]]"
   ]
  },
  {
   "cell_type": "code",
   "execution_count": 18,
   "metadata": {},
   "outputs": [
    {
     "name": "stdout",
     "output_type": "stream",
     "text": [
      "41 40 39 123\n"
     ]
    }
   ],
   "source": [
    "sub = pd.read_csv('sample/sample_submission.csv')\n",
    "# lbl = {k:{'label':v, 'count':0} for k,v in pd.read_csv('sample/vocabulary.csv')[['Index','Name']]}\n",
    "train_videos = glob.glob('yt8m/v2/video/train*')\n",
    "test_videos = glob.glob('yt8m/v2/video/test*')\n",
    "val_videos = glob.glob('yt8m/v2/video/val*')\n",
    "frames = glob.glob('yt8m/v2/frame/*')\n",
    "print(len(train_videos), len(test_videos), len(val_videos),len(frames))"
   ]
  },
  {
   "cell_type": "code",
   "execution_count": 19,
   "metadata": {},
   "outputs": [
    {
     "name": "stdout",
     "output_type": "stream",
     "text": [
      "0\n",
      "WARNING:tensorflow:From <ipython-input-19-2036e908e426>:8: tf_record_iterator (from tensorflow.python.lib.io.tf_record) is deprecated and will be removed in a future version.\n",
      "Instructions for updating:\n",
      "Use eager execution and: \n",
      "`tf.data.TFRecordDataset(path)`\n"
     ]
    }
   ],
   "source": [
    "models = []\n",
    "train = []\n",
    "loops_ = 0\n",
    "for tf_vids in train_videos:\n",
    "    #f = tf_vids.split('/')[-1].split('.')[0]\n",
    "    if loops_ % 10 == 0:\n",
    "        print(loops_)\n",
    "    for tf_zip in tf.python_io.tf_record_iterator(tf_vids):\n",
    "        video = tf.train.Example.FromString(tf_zip)\n",
    "        vid_id = video.features.feature['id'].bytes_list.value[0].decode(encoding='UTF-8')\n",
    "        mean_rgb = video.features.feature['mean_rgb'].float_list.value\n",
    "        mean_audio = video.features.feature['mean_audio'].float_list.value\n",
    "        l = ','.join(map(str, video.features.feature['labels'].int64_list.value))\n",
    "        train.append([vid_id, l]+ list(mean_rgb) + list(mean_audio))\n",
    "    if loops_ > 2:\n",
    "        break\n",
    "    loops_ += 1\n",
    "\n",
    "col = ['VideoId','label'] + ['mean_rgb'+str(i) for i in range(1024)] + ['mean_audio'+str(i) for i in range(128)]\n",
    "train = pd.DataFrame(train, columns=col)\n",
    "col = [c for c in col if c not in ['VideoId','label']]\n",
    "y = train['label'].str.get_dummies(sep=',')\n",
    "model =  RandomForestClassifier(min_samples_split = 40, max_leaf_nodes = 15, n_estimators = 40, max_depth = 5,min_samples_leaf = 3)\n",
    "sc = preprocessing.StandardScaler()\n",
    "model.fit(sc.fit_transform(train[col]), y)\n",
    "models.append([model, y.columns])"
   ]
  },
  {
   "cell_type": "code",
   "execution_count": null,
   "metadata": {},
   "outputs": [],
   "source": []
  }
 ],
 "metadata": {
  "kernelspec": {
   "display_name": "Python 3",
   "language": "python",
   "name": "python3"
  },
  "language_info": {
   "codemirror_mode": {
    "name": "ipython",
    "version": 3
   },
   "file_extension": ".py",
   "mimetype": "text/x-python",
   "name": "python",
   "nbconvert_exporter": "python",
   "pygments_lexer": "ipython3",
   "version": "3.6.8"
  }
 },
 "nbformat": 4,
 "nbformat_minor": 2
}
